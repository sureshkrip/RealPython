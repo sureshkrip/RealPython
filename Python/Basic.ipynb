{
 "cells": [
  {
   "cell_type": "markdown",
   "id": "7b07fb5a",
   "metadata": {},
   "source": [
    "# Data types"
   ]
  },
  {
   "cell_type": "markdown",
   "id": "375048b0",
   "metadata": {},
   "source": [
    "### Int"
   ]
  },
  {
   "cell_type": "code",
   "execution_count": 25,
   "id": "bac11265",
   "metadata": {},
   "outputs": [
    {
     "name": "stdout",
     "output_type": "stream",
     "text": [
      "d = 13\n"
     ]
    },
    {
     "data": {
      "text/plain": [
       "1235"
      ]
     },
     "execution_count": 25,
     "metadata": {},
     "output_type": "execute_result"
    }
   ],
   "source": [
    "a = 12\n",
    "type(a)\n",
    "b = '12'\n",
    "c = int(b)\n",
    "d = 0b1101\n",
    "print('d =', d)\n",
    "e = 0o2323\n",
    "e\n",
    "f = 0x4d3\n",
    "f"
   ]
  },
  {
   "cell_type": "markdown",
   "id": "21ad959a",
   "metadata": {},
   "source": [
    "### float"
   ]
  },
  {
   "cell_type": "code",
   "execution_count": 34,
   "id": "e1e3c559",
   "metadata": {},
   "outputs": [
    {
     "name": "stdout",
     "output_type": "stream",
     "text": [
      "2.5\n",
      "2\n",
      "j=  4000.0\n",
      "j= 0.004\n",
      "0.30000000000000004\n"
     ]
    }
   ],
   "source": [
    "a = 4.2\n",
    "type(a)\n",
    "c =10; d=4\n",
    "e = c/d; print(e)\n",
    "e = c//d; print(e) # integer division\n",
    "i = float(3)\n",
    "j=4e3  ; print (\"j= \", j)\n",
    "j=4e-3; print(\"j=\", j)\n",
    "a = 0.2; b = 0.1; c = a + b; print(c)\n"
   ]
  },
  {
   "cell_type": "markdown",
   "id": "270fb0ff",
   "metadata": {},
   "source": [
    "### Complex numbers"
   ]
  },
  {
   "cell_type": "code",
   "execution_count": 40,
   "id": "e79cbce3",
   "metadata": {},
   "outputs": [
    {
     "data": {
      "text/plain": [
       "(5+8j)"
      ]
     },
     "execution_count": 40,
     "metadata": {},
     "output_type": "execute_result"
    }
   ],
   "source": [
    "a = 2+3j\n",
    "a\n",
    "type(a)\n",
    "b = 3+5j\n",
    "c = a + b\n",
    "c\n"
   ]
  },
  {
   "cell_type": "markdown",
   "id": "0d569ade",
   "metadata": {},
   "source": [
    "### String"
   ]
  },
  {
   "cell_type": "code",
   "execution_count": 42,
   "id": "745bdb4d",
   "metadata": {},
   "outputs": [
    {
     "data": {
      "text/plain": [
       "'He said \" i wasn\\'t at school today\" to me'"
      ]
     },
     "execution_count": 42,
     "metadata": {},
     "output_type": "execute_result"
    }
   ],
   "source": [
    "#espace character\n",
    "c = 'He said \" i wasn\\'t at school today\" to me'\n",
    "c\n",
    "\n",
    "#\\t, \\n\n",
    "\n"
   ]
  },
  {
   "cell_type": "code",
   "execution_count": 43,
   "id": "165a914f",
   "metadata": {},
   "outputs": [
    {
     "name": "stdout",
     "output_type": "stream",
     "text": [
      "He said \" i wasn't at school today\" to me\n"
     ]
    }
   ],
   "source": [
    "print(c)"
   ]
  },
  {
   "cell_type": "code",
   "execution_count": null,
   "id": "845393f5",
   "metadata": {},
   "outputs": [],
   "source": [
    "b = r\"test\\n\" # not interpert next line character\n",
    "print (\"\"\" This suresh\n",
    "           start\"\"\")"
   ]
  },
  {
   "cell_type": "markdown",
   "id": "e1182169",
   "metadata": {},
   "source": [
    "# Print Method"
   ]
  },
  {
   "cell_type": "code",
   "execution_count": 14,
   "id": "789fbfa3",
   "metadata": {},
   "outputs": [
    {
     "name": "stdout",
     "output_type": "stream",
     "text": [
      "I have 1 ball\n",
      "I have 1 ball\n",
      "I have 1 ball\n",
      "I have 1 ball\n",
      "I have 1 ball\n"
     ]
    }
   ],
   "source": [
    "a = 1\n",
    "b = 'ball'\n",
    "print('I have %d %s' % (a, b))\n",
    "print('I have', a, b)\n",
    "print('I have {} {}'.format(a, b))\n",
    "print('I have ' + str(a) + ' ' + b)\n",
    "print(f'I have {a} {b}')"
   ]
  },
  {
   "cell_type": "code",
   "execution_count": 15,
   "id": "81091fc8",
   "metadata": {},
   "outputs": [
    {
     "data": {
      "text/plain": [
       "'Hello, Eric. You are 74.'"
      ]
     },
     "execution_count": 15,
     "metadata": {},
     "output_type": "execute_result"
    }
   ],
   "source": [
    "person = {'name': 'Eric', 'age': 74}\n",
    "\"Hello, {name}. You are {age}.\".format(**person)\n"
   ]
  },
  {
   "cell_type": "markdown",
   "id": "c897c7c8",
   "metadata": {},
   "source": [
    "F string"
   ]
  },
  {
   "cell_type": "code",
   "execution_count": 18,
   "id": "2a1e7140",
   "metadata": {},
   "outputs": [
    {
     "data": {
      "text/plain": [
       "'Hello, Eric. You are 74.'"
      ]
     },
     "execution_count": 18,
     "metadata": {},
     "output_type": "execute_result"
    }
   ],
   "source": [
    "name = \"Eric\"\n",
    "age = 74\n",
    "f\"Hello, {name}. You are {age}.\"\n",
    "F\"Hello, {name}. You are {age}.\""
   ]
  },
  {
   "cell_type": "code",
   "execution_count": 19,
   "id": "3b7a7f90",
   "metadata": {},
   "outputs": [
    {
     "data": {
      "text/plain": [
       "'74'"
      ]
     },
     "execution_count": 19,
     "metadata": {},
     "output_type": "execute_result"
    }
   ],
   "source": [
    "f\"{2 * 37}\""
   ]
  },
  {
   "cell_type": "code",
   "execution_count": 22,
   "id": "42502773",
   "metadata": {},
   "outputs": [
    {
     "data": {
      "text/plain": [
       "'eric idle is funny.'"
      ]
     },
     "execution_count": 22,
     "metadata": {},
     "output_type": "execute_result"
    }
   ],
   "source": [
    "def to_lowercase(input):\n",
    "    return input.lower()\n",
    "\n",
    "name = \"Eric Idle\"\n",
    "f\"{to_lowercase(name)} is funny.\"\n",
    "f\"{name.lower()} is funny.\"\n",
    "\n"
   ]
  },
  {
   "cell_type": "code",
   "execution_count": 23,
   "id": "5f1aacbb",
   "metadata": {},
   "outputs": [],
   "source": [
    "class Comedian:\n",
    "    def __init__(self, first_name, last_name, age):\n",
    "        self.first_name = first_name\n",
    "        self.last_name = last_name\n",
    "        self.age = age\n",
    "\n",
    "    def __str__(self):\n",
    "        return f\"{self.first_name} {self.last_name} is {self.age}.\"\n",
    "\n",
    "    def __repr__(self):\n",
    "        return f\"{self.first_name} {self.last_name} is {self.age}. Surprise!\""
   ]
  },
  {
   "cell_type": "code",
   "execution_count": 24,
   "id": "e8a41aab",
   "metadata": {},
   "outputs": [
    {
     "data": {
      "text/plain": [
       "'Eric Idle is 74.'"
      ]
     },
     "execution_count": 24,
     "metadata": {},
     "output_type": "execute_result"
    }
   ],
   "source": [
    "new_comedian = Comedian(\"Eric\", \"Idle\", \"74\")\n",
    "f\"{new_comedian}\""
   ]
  },
  {
   "cell_type": "markdown",
   "id": "31708d25",
   "metadata": {},
   "source": [
    "### fstring also in triple quotes"
   ]
  }
 ],
 "metadata": {
  "kernelspec": {
   "display_name": "Python 3",
   "language": "python",
   "name": "python3"
  },
  "language_info": {
   "codemirror_mode": {
    "name": "ipython",
    "version": 3
   },
   "file_extension": ".py",
   "mimetype": "text/x-python",
   "name": "python",
   "nbconvert_exporter": "python",
   "pygments_lexer": "ipython3",
   "version": "3.8.8"
  }
 },
 "nbformat": 4,
 "nbformat_minor": 5
}
