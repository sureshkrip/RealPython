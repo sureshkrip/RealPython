{
 "cells": [
  {
   "cell_type": "code",
   "execution_count": 13,
   "id": "45139f7d",
   "metadata": {},
   "outputs": [
    {
     "data": {
      "text/plain": [
       "{0: 1, 1: 3, 2: 1, 3: 1, 7: 2, 23: 1}"
      ]
     },
     "execution_count": 13,
     "metadata": {},
     "output_type": "execute_result"
    }
   ],
   "source": [
    "# Need not be sorted, necessarily\n",
    "a = [0, 1, 1, 1, 2, 3, 7, 7, 23]\n",
    "\n",
    "def count_elements(seq) -> dict:\n",
    "    \"\"\"Tally elements from `seq`.\"\"\"\n",
    "    hist = {}\n",
    "    for i in seq:\n",
    "        hist[i] = hist.get(i, 0) + 1\n",
    "    return hist\n",
    "\n",
    "counted = count_elements(a)\n",
    "counted"
   ]
  },
  {
   "cell_type": "code",
   "execution_count": 14,
   "id": "dacc9ae6",
   "metadata": {},
   "outputs": [
    {
     "data": {
      "text/plain": [
       "Counter({0: 1, 1: 3, 2: 1, 3: 1, 7: 2, 23: 1})"
      ]
     },
     "execution_count": 14,
     "metadata": {},
     "output_type": "execute_result"
    }
   ],
   "source": [
    "from collections import Counter\n",
    "\n",
    "recounted = Counter(a)\n",
    "recounted\n"
   ]
  },
  {
   "cell_type": "code",
   "execution_count": 15,
   "id": "d583f3f8",
   "metadata": {},
   "outputs": [
    {
     "data": {
      "text/plain": [
       "True"
      ]
     },
     "execution_count": 15,
     "metadata": {},
     "output_type": "execute_result"
    }
   ],
   "source": [
    "recounted.items() == counted.items()"
   ]
  },
  {
   "cell_type": "code",
   "execution_count": 16,
   "id": "4d1113c1",
   "metadata": {},
   "outputs": [],
   "source": [
    "def ascii_histogram(seq) -> None:\n",
    "    \"\"\"A horizontal frequency-table/histogram plot.\"\"\"\n",
    "    counted = count_elements(seq)\n",
    "    for k in sorted(counted):\n",
    "        print('{0:5d} {1}'.format(k, '+' * counted[k]))"
   ]
  },
  {
   "cell_type": "code",
   "execution_count": 17,
   "id": "43b12b82",
   "metadata": {},
   "outputs": [
    {
     "name": "stdout",
     "output_type": "stream",
     "text": [
      "    1 +++++++\n",
      "    3 ++++++++++++++\n",
      "    4 ++++++\n",
      "    6 +++++++++\n",
      "    8 ++++++\n",
      "    9 ++++++++++++\n",
      "   10 ++++++++++++\n"
     ]
    }
   ],
   "source": [
    "import random\n",
    "random.seed(1)\n",
    "\n",
    "vals = [1, 3, 4, 6, 8, 9, 10]\n",
    "# Each number in `vals` will occur between 5 and 15 times.\n",
    "freq = (random.randint(5, 15) for _ in vals)\n",
    "\n",
    "data = []\n",
    "for f, v in zip(freq, vals):\n",
    "    data.extend([v] * f)\n",
    "\n",
    "ascii_histogram(data)"
   ]
  },
  {
   "cell_type": "code",
   "execution_count": 18,
   "id": "768ed827",
   "metadata": {},
   "outputs": [
    {
     "data": {
      "text/plain": [
       "array([18.406, 18.087, 16.004, 16.221,  7.358])"
      ]
     },
     "execution_count": 18,
     "metadata": {},
     "output_type": "execute_result"
    }
   ],
   "source": [
    "import numpy as np\n",
    "# `numpy.random` uses its own PRNG.\n",
    "np.random.seed(444)\n",
    "np.set_printoptions(precision=3)\n",
    "\n",
    "d = np.random.laplace(loc=15, scale=3, size=500)\n",
    "d[:5]\n"
   ]
  },
  {
   "cell_type": "code",
   "execution_count": 19,
   "id": "5ce01c72",
   "metadata": {},
   "outputs": [
    {
     "data": {
      "text/plain": [
       "array([ 2.11 ,  5.874,  9.638, 13.402, 17.166, 20.93 , 24.694, 28.458,\n",
       "       32.222, 35.986, 39.749])"
      ]
     },
     "execution_count": 19,
     "metadata": {},
     "output_type": "execute_result"
    }
   ],
   "source": [
    "hist, bin_edges = np.histogram(d)\n",
    "\n",
    "hist\n",
    "\n",
    "\n",
    "bin_edges"
   ]
  },
  {
   "cell_type": "code",
   "execution_count": 20,
   "id": "33174a97",
   "metadata": {},
   "outputs": [
    {
     "data": {
      "text/plain": [
       "(10, 11)"
      ]
     },
     "execution_count": 20,
     "metadata": {},
     "output_type": "execute_result"
    }
   ],
   "source": [
    "hist.size, bin_edges.size"
   ]
  },
  {
   "cell_type": "code",
   "execution_count": 24,
   "id": "25713b4e",
   "metadata": {},
   "outputs": [
    {
     "data": {
      "text/plain": [
       "(0.0, 80.0)"
      ]
     },
     "execution_count": 24,
     "metadata": {},
     "output_type": "execute_result"
    },
    {
     "data": {
      "image/png": "[encoded data removed]",
      "text/plain": [
       "<Figure size 432x288 with 1 Axes>"
      ]
     },
     "metadata": {
      "needs_background": "light"
     },
     "output_type": "display_data"
    }
   ],
   "source": [
    "import matplotlib.pyplot as plt\n",
    "\n",
    "# An \"interface\" to matplotlib.axes.Axes.hist() method\n",
    "n, bins, patches = plt.hist(x=d, bins='auto', color='#0504aa',\n",
    "                            alpha=0.7, rwidth=0.85)\n",
    "plt.grid(axis='y', alpha=0.75)\n",
    "plt.xlabel('Value')\n",
    "plt.ylabel('Frequency')\n",
    "plt.title('My Very Own Histogram')\n",
    "plt.text(23, 45, r'$\\mu=15, b=3$')\n",
    "maxfreq = n.max()\n",
    "# Set a clean upper y-axis limit.\n",
    "plt.ylim(ymax=np.ceil(maxfreq / 10) * 10 if maxfreq % 10 else maxfreq + 10)"
   ]
  },
  {
   "cell_type": "code",
   "execution_count": 27,
   "id": "2ef52ba4",
   "metadata": {},
   "outputs": [
    {
     "data": {
      "text/plain": [
       "(0.0, 80.0)"
      ]
     },
     "execution_count": 27,
     "metadata": {},
     "output_type": "execute_result"
    },
    {
     "data": {
      "image/png": "[encoded data removed]",
      "text/plain": [
       "<Figure size 720x720 with 1 Axes>"
      ]
     },
     "metadata": {
      "needs_background": "light"
     },
     "output_type": "display_data"
    }
   ],
   "source": [
    "fig,ax = plt.subplots(figsize=(10,10))\n",
    "ax.hist(d, bins='auto', label=('value','frequency'))\n",
    "ax.set_ylim(ymax=np.ceil(maxfreq / 10) * 10 if maxfreq % 10 else maxfreq + 10)"
   ]
  },
  {
   "cell_type": "code",
   "execution_count": null,
   "id": "938ea1ed",
   "metadata": {},
   "outputs": [],
   "source": []
  }
 ],
 "metadata": {
  "kernelspec": {
   "display_name": "Python 3",
   "language": "python",
   "name": "python3"
  },
  "language_info": {
   "codemirror_mode": {
    "name": "ipython",
    "version": 3
   },
   "file_extension": ".py",
   "mimetype": "text/x-python",
   "name": "python",
   "nbconvert_exporter": "python",
   "pygments_lexer": "ipython3",
   "version": "3.8.8"
  }
 },
 "nbformat": 4,
 "nbformat_minor": 5
}
