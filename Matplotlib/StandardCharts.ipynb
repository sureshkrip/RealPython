{
 "cells": [
  {
   "cell_type": "code",
   "execution_count": 47,
   "id": "a7f4eab0",
   "metadata": {},
   "outputs": [],
   "source": [
    "import matplotlib.pyplot as plt\n",
    "import numpy as np\n",
    "import pandas as pd"
   ]
  },
  {
   "cell_type": "code",
   "execution_count": 3,
   "id": "2ea3dd1d",
   "metadata": {},
   "outputs": [],
   "source": [
    "x=np.arange(5)\n",
    "y=np.arange(5)"
   ]
  },
  {
   "cell_type": "code",
   "execution_count": 15,
   "id": "465f7f04",
   "metadata": {},
   "outputs": [
    {
     "data": {
      "text/plain": [
       "Text(0.5, 0, '$x$')"
      ]
     },
     "execution_count": 15,
     "metadata": {},
     "output_type": "execute_result"
    },
    {
     "data": {
      "image/png": "[encoded data removed]",
      "text/plain": [
       "<Figure size 432x288 with 1 Axes>"
      ]
     },
     "metadata": {
      "needs_background": "light"
     },
     "output_type": "display_data"
    }
   ],
   "source": [
    "fig,ax = plt.subplots()\n",
    "ax.scatter(x,y)\n",
    "ax.set_title(\"TEST\")\n",
    "ax.set_xlabel('$x$')"
   ]
  },
  {
   "cell_type": "code",
   "execution_count": 50,
   "id": "8e0e08a5",
   "metadata": {},
   "outputs": [
    {
     "data": {
      "image/png": "[encoded data removed]",
      "text/plain": [
       "<Figure size 504x360 with 16 Axes>"
      ]
     },
     "metadata": {
      "needs_background": "light"
     },
     "output_type": "display_data"
    }
   ],
   "source": [
    "fig,ax = plt.subplots(nrows=4,ncols=4, figsize=(7,5))"
   ]
  },
  {
   "cell_type": "code",
   "execution_count": 18,
   "id": "7a9ce5eb",
   "metadata": {},
   "outputs": [
    {
     "data": {
      "text/plain": [
       "array([[<AxesSubplot:>, <AxesSubplot:>, <AxesSubplot:>, <AxesSubplot:>],\n",
       "       [<AxesSubplot:>, <AxesSubplot:>, <AxesSubplot:>, <AxesSubplot:>],\n",
       "       [<AxesSubplot:>, <AxesSubplot:>, <AxesSubplot:>, <AxesSubplot:>],\n",
       "       [<AxesSubplot:>, <AxesSubplot:>, <AxesSubplot:>, <AxesSubplot:>]],\n",
       "      dtype=object)"
      ]
     },
     "execution_count": 18,
     "metadata": {},
     "output_type": "execute_result"
    }
   ],
   "source": [
    "ax"
   ]
  },
  {
   "cell_type": "code",
   "execution_count": 19,
   "id": "0c14eaf4",
   "metadata": {},
   "outputs": [
    {
     "data": {
      "text/plain": [
       "<AxesSubplot:>"
      ]
     },
     "execution_count": 19,
     "metadata": {},
     "output_type": "execute_result"
    }
   ],
   "source": [
    "ax[0][0]"
   ]
  },
  {
   "cell_type": "code",
   "execution_count": 22,
   "id": "084ce149",
   "metadata": {},
   "outputs": [
    {
     "data": {
      "text/plain": [
       "<matplotlib.collections.PathCollection at 0x28ead2efa30>"
      ]
     },
     "execution_count": 22,
     "metadata": {},
     "output_type": "execute_result"
    },
    {
     "data": {
      "image/png": "[encoded data removed]",
      "text/plain": [
       "<Figure size 432x288 with 16 Axes>"
      ]
     },
     "metadata": {
      "needs_background": "light"
     },
     "output_type": "display_data"
    }
   ],
   "source": [
    "fig,ax = plt.subplots(nrows=4,ncols=4)\n",
    "ax[0][0].scatter(x,y)"
   ]
  },
  {
   "cell_type": "code",
   "execution_count": 21,
   "id": "82164140",
   "metadata": {},
   "outputs": [
    {
     "data": {
      "text/plain": [
       "<function matplotlib.pyplot.show(close=None, block=None)>"
      ]
     },
     "execution_count": 21,
     "metadata": {},
     "output_type": "execute_result"
    }
   ],
   "source": [
    "plt.show"
   ]
  },
  {
   "cell_type": "code",
   "execution_count": 24,
   "id": "5debe3cf",
   "metadata": {},
   "outputs": [
    {
     "data": {
      "text/plain": [
       "array([ 9,  6,  4, 10,  8,  6,  9,  7, 10,  2,  8,  7,  2,  8,  6,  4,  3,\n",
       "        3,  5, 10,  4,  1,  2, 10,  3,  7,  6,  3,  2,  1,  3,  2, 10,  7,\n",
       "       10,  9,  9,  5, 10,  2,  7,  1,  3,  8,  6,  7,  7, 10,  2,  4])"
      ]
     },
     "execution_count": 24,
     "metadata": {},
     "output_type": "execute_result"
    }
   ],
   "source": [
    "x = np.random.randint(low=1, high=11, size=50)\n",
    "x"
   ]
  },
  {
   "cell_type": "code",
   "execution_count": 25,
   "id": "4c7a3534",
   "metadata": {},
   "outputs": [
    {
     "data": {
      "text/plain": [
       "array([13,  8,  6, 13, 12,  7, 10, 11, 12,  4, 11,  9,  6, 10, 10,  7,  6,\n",
       "        7,  6, 11,  8,  5,  3, 11,  4, 10,  7,  6,  3,  3,  7,  3, 14,  8,\n",
       "       14, 13, 13,  7, 11,  5,  8,  5,  4, 12, 10,  8, 11, 11,  3,  8])"
      ]
     },
     "execution_count": 25,
     "metadata": {},
     "output_type": "execute_result"
    }
   ],
   "source": [
    "y = x + np.random.randint(1, 5, size=x.size)\n",
    "y"
   ]
  },
  {
   "cell_type": "code",
   "execution_count": 26,
   "id": "bb6d7815",
   "metadata": {},
   "outputs": [
    {
     "data": {
      "text/plain": [
       "array([[ 9, 13],\n",
       "       [ 6,  8],\n",
       "       [ 4,  6],\n",
       "       [10, 13],\n",
       "       [ 8, 12],\n",
       "       [ 6,  7],\n",
       "       [ 9, 10],\n",
       "       [ 7, 11],\n",
       "       [10, 12],\n",
       "       [ 2,  4],\n",
       "       [ 8, 11],\n",
       "       [ 7,  9],\n",
       "       [ 2,  6],\n",
       "       [ 8, 10],\n",
       "       [ 6, 10],\n",
       "       [ 4,  7],\n",
       "       [ 3,  6],\n",
       "       [ 3,  7],\n",
       "       [ 5,  6],\n",
       "       [10, 11],\n",
       "       [ 4,  8],\n",
       "       [ 1,  5],\n",
       "       [ 2,  3],\n",
       "       [10, 11],\n",
       "       [ 3,  4],\n",
       "       [ 7, 10],\n",
       "       [ 6,  7],\n",
       "       [ 3,  6],\n",
       "       [ 2,  3],\n",
       "       [ 1,  3],\n",
       "       [ 3,  7],\n",
       "       [ 2,  3],\n",
       "       [10, 14],\n",
       "       [ 7,  8],\n",
       "       [10, 14],\n",
       "       [ 9, 13],\n",
       "       [ 9, 13],\n",
       "       [ 5,  7],\n",
       "       [10, 11],\n",
       "       [ 2,  5],\n",
       "       [ 7,  8],\n",
       "       [ 1,  5],\n",
       "       [ 3,  4],\n",
       "       [ 8, 12],\n",
       "       [ 6, 10],\n",
       "       [ 7,  8],\n",
       "       [ 7, 11],\n",
       "       [10, 11],\n",
       "       [ 2,  3],\n",
       "       [ 4,  8]])"
      ]
     },
     "execution_count": 26,
     "metadata": {},
     "output_type": "execute_result"
    }
   ],
   "source": [
    "data = np.column_stack((x,y))\n",
    "data"
   ]
  },
  {
   "cell_type": "code",
   "execution_count": 29,
   "id": "95887d63",
   "metadata": {},
   "outputs": [
    {
     "data": {
      "text/plain": [
       "array([[ 9,  6,  4, 10,  8,  6,  9,  7, 10,  2,  8,  7,  2,  8,  6,  4,\n",
       "         3,  3,  5, 10,  4,  1,  2, 10,  3,  7,  6,  3,  2,  1,  3,  2,\n",
       "        10,  7, 10,  9,  9,  5, 10,  2,  7,  1,  3,  8,  6,  7,  7, 10,\n",
       "         2,  4],\n",
       "       [13,  8,  6, 13, 12,  7, 10, 11, 12,  4, 11,  9,  6, 10, 10,  7,\n",
       "         6,  7,  6, 11,  8,  5,  3, 11,  4, 10,  7,  6,  3,  3,  7,  3,\n",
       "        14,  8, 14, 13, 13,  7, 11,  5,  8,  5,  4, 12, 10,  8, 11, 11,\n",
       "         3,  8]])"
      ]
     },
     "execution_count": 29,
     "metadata": {},
     "output_type": "execute_result"
    }
   ],
   "source": [
    "data.T"
   ]
  },
  {
   "cell_type": "code",
   "execution_count": 30,
   "id": "93ea8aee",
   "metadata": {},
   "outputs": [
    {
     "data": {
      "text/plain": [
       "numpy.ndarray"
      ]
     },
     "execution_count": 30,
     "metadata": {},
     "output_type": "execute_result"
    }
   ],
   "source": [
    "type(data.T)"
   ]
  },
  {
   "cell_type": "code",
   "execution_count": 32,
   "id": "10aa1a1c",
   "metadata": {},
   "outputs": [
    {
     "data": {
      "text/plain": [
       "array([[ 9, 13,  6,  8],\n",
       "       [ 4,  6, 10, 13],\n",
       "       [ 8, 12,  6,  7],\n",
       "       [ 9, 10,  7, 11],\n",
       "       [10, 12,  2,  4],\n",
       "       [ 8, 11,  7,  9],\n",
       "       [ 2,  6,  8, 10],\n",
       "       [ 6, 10,  4,  7],\n",
       "       [ 3,  6,  3,  7],\n",
       "       [ 5,  6, 10, 11],\n",
       "       [ 4,  8,  1,  5],\n",
       "       [ 2,  3, 10, 11],\n",
       "       [ 3,  4,  7, 10],\n",
       "       [ 6,  7,  3,  6],\n",
       "       [ 2,  3,  1,  3],\n",
       "       [ 3,  7,  2,  3],\n",
       "       [10, 14,  7,  8],\n",
       "       [10, 14,  9, 13],\n",
       "       [ 9, 13,  5,  7],\n",
       "       [10, 11,  2,  5],\n",
       "       [ 7,  8,  1,  5],\n",
       "       [ 3,  4,  8, 12],\n",
       "       [ 6, 10,  7,  8],\n",
       "       [ 7, 11, 10, 11],\n",
       "       [ 2,  3,  4,  8]])"
      ]
     },
     "execution_count": 32,
     "metadata": {},
     "output_type": "execute_result"
    }
   ],
   "source": [
    "data.reshape(25,4)"
   ]
  },
  {
   "cell_type": "code",
   "execution_count": 59,
   "id": "df303222",
   "metadata": {},
   "outputs": [],
   "source": [
    "a = pd.Series([2,2,5,5,1])"
   ]
  },
  {
   "cell_type": "code",
   "execution_count": 60,
   "id": "d394af3e",
   "metadata": {},
   "outputs": [],
   "source": [
    "b = pd.Series(np.arange(5))"
   ]
  },
  {
   "cell_type": "code",
   "execution_count": 85,
   "id": "05211d91",
   "metadata": {},
   "outputs": [
    {
     "data": {
      "text/plain": [
       "RangeIndex(start=0, stop=5, step=1)"
      ]
     },
     "execution_count": 85,
     "metadata": {},
     "output_type": "execute_result"
    }
   ],
   "source": [
    "data = pd.DataFrame({'Test1': a, 'Test2': b})\n",
    "data\n",
    "data.index"
   ]
  },
  {
   "cell_type": "code",
   "execution_count": 86,
   "id": "1f0e7a7b",
   "metadata": {},
   "outputs": [
    {
     "data": {
      "text/plain": [
       "([<matplotlib.patches.Wedge at 0x28eaf8993a0>,\n",
       "  <matplotlib.patches.Wedge at 0x28eaf899b20>,\n",
       "  <matplotlib.patches.Wedge at 0x28eaf8bd280>,\n",
       "  <matplotlib.patches.Wedge at 0x28eaf8bd9a0>,\n",
       "  <matplotlib.patches.Wedge at 0x28eaf8b3100>],\n",
       " [Text(1.0048999936326264, 0.44741032933667013, '0'),\n",
       "  Text(0.33991862524830163, 1.0461621902025062, '1'),\n",
       "  Text(-1.0049000564669839, 0.4474101882083744, '2'),\n",
       "  Text(0.11498150761655912, -1.093974064092117, '3'),\n",
       "  Text(1.075962411840778, -0.22870261980523152, '4')],\n",
       " [Text(0.5481272692541598, 0.24404199782000185, '13.3%'),\n",
       "  Text(0.18541015922634632, 0.5706339219286397, '13.3%'),\n",
       "  Text(-0.5481273035274457, 0.24404192084093146, '33.3%'),\n",
       "  Text(0.06271718597266861, -0.5967131258684274, '33.3%'),\n",
       "  Text(0.5868885882767879, -0.12474688353012627, '6.7%')])"
      ]
     },
     "execution_count": 86,
     "metadata": {},
     "output_type": "execute_result"
    },
    {
     "data": {
      "image/png": "[encoded data removed]",
      "text/plain": [
       "<Figure size 432x288 with 2 Axes>"
      ]
     },
     "metadata": {
      "needs_background": "light"
     },
     "output_type": "display_data"
    }
   ],
   "source": [
    "fig,ax = plt.subplots(ncols=2)\n",
    "ax[0].hist(data,bins='auto',label=('Test1','Test2'))\n",
    "ax[0].legend(loc=(0))\n",
    "ax[1].pie(data.Test1,labels=data.index,autopct='%1.1f%%')\n",
    "\n"
   ]
  },
  {
   "cell_type": "code",
   "execution_count": null,
   "id": "e6057bb3",
   "metadata": {},
   "outputs": [],
   "source": []
  }
 ],
 "metadata": {
  "kernelspec": {
   "display_name": "Python 3",
   "language": "python",
   "name": "python3"
  },
  "language_info": {
   "codemirror_mode": {
    "name": "ipython",
    "version": 3
   },
   "file_extension": ".py",
   "mimetype": "text/x-python",
   "name": "python",
   "nbconvert_exporter": "python",
   "pygments_lexer": "ipython3",
   "version": "3.8.8"
  }
 },
 "nbformat": 4,
 "nbformat_minor": 5
}
